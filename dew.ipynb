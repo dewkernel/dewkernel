{
  "nbformat": 4,
  "nbformat_minor": 0,
  "metadata": {
    "colab": {
      "provenance": [],
      "include_colab_link": true
    },
    "kernelspec": {
      "name": "python3",
      "display_name": "Python 3"
    },
    "language_info": {
      "name": "python"
    }
  },
  "cells": [
    {
      "cell_type": "markdown",
      "metadata": {
        "id": "view-in-github",
        "colab_type": "text"
      },
      "source": [
        "<a href=\"https://colab.research.google.com/github/dewkernel/dewkernel/blob/main/dew.ipynb\" target=\"_parent\"><img src=\"https://colab.research.google.com/assets/colab-badge.svg\" alt=\"Open In Colab\"/></a>"
      ]
    },
    {
      "cell_type": "code",
      "execution_count": null,
      "metadata": {
        "colab": {
          "base_uri": "https://localhost:8080/"
        },
        "id": "fbL6pCnH1Vbk",
        "outputId": "5c9cb7fa-46c4-4886-8cb9-912c32ac20eb"
      },
      "outputs": [
        {
          "output_type": "execute_result",
          "data": {
            "text/plain": [
              "4.88535225614967"
            ]
          },
          "metadata": {},
          "execution_count": 10
        }
      ],
      "source": [
        "\"\"\"\n",
        "Nombres: -Eduardo Urbano\n",
        "         -Martin Lopez\n",
        "Curso: 3°D\n",
        "Fecha: 24/09/2024\n",
        "Asignatura: Programación y base de datos\n",
        "\"\"\"\n",
        "\n",
        "#Definimos una funcion que reciba un dato de \"valores\"\n",
        "def DesviacionEstandar(valores):\n",
        "  #Creamos una variable que contenga el dato \"valores\" los sume y los divide entre la longitud de el dato \"valores\"\n",
        "  promedio = sum(valores) / len(valores)\n",
        "  #Creamos una lista y lo guardamos en la variable \"diferenciaCuadrado\"\n",
        "  diferenciaCuadrado = []\n",
        "  #Creamos un ciclo for que recorra valores en \"x\"\n",
        "  for x in valores:\n",
        "    #Creamos una variable almacene \"x\" menos \"promedio\"\n",
        "    diferencia = x - promedio\n",
        "    #añadimos a la lista la variable \"diferencia\" elevado al cuadrado\n",
        "    diferenciaCuadrado.append(diferencia**2)\n",
        "  #Creamos una variable que contenga la suma de todos los valores de la lista \"diferenciaCuadrado\"\n",
        "  SumaDiferencias = sum(diferenciaCuadrado)\n",
        "  #Creamos una variable que tenga la suma de todos los valores de la lista \"diferenciaCuadrado\" y lo divida entre la longitud de \"valores\" menos 1\n",
        "  resto = SumaDiferencias / (len(valores) - 1)\n",
        "  #Creamos una variable que contenga saque la raiz cuadrada de la variable \"resto\"\n",
        "  raiz = resto **0.5\n",
        "\n",
        "  #retorna la variable \"raiz\"\n",
        "  return raiz\n",
        "\n",
        "#Llamamos a la funcion \"DesviacionEstandar\" y le pasamos una lista con datos numericos\n",
        "DesviacionEstandar([4.0, 1.0, 11.0, 13.0, 2.0, 7.0])\n",
        "\n",
        "\n",
        "\n"
      ]
    }
  ]
}